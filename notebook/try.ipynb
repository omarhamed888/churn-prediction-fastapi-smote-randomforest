{
 "cells": [
  {
   "cell_type": "code",
   "execution_count": 2,
   "metadata": {},
   "outputs": [
    {
     "name": "stdout",
     "output_type": "stream",
     "text": [
      "Preprocessor and model loaded successfully.\n"
     ]
    }
   ],
   "source": [
    "# --- Load Preprocessor and Model ---\n",
    "import joblib\n",
    "import os\n",
    "\n",
    "preprocessor = joblib.load(os.path.join( '../dump_files', 'preprocessor.joblib'))\n",
    "model = joblib.load(os.path.join( '../dump_files', 'best_rf_model.joblib'))\n",
    "print('Preprocessor and model loaded successfully.')"
   ]
  },
  {
   "cell_type": "code",
   "execution_count": 5,
   "metadata": {},
   "outputs": [
    {
     "data": {
      "text/html": [
       "<div>\n",
       "<style scoped>\n",
       "    .dataframe tbody tr th:only-of-type {\n",
       "        vertical-align: middle;\n",
       "    }\n",
       "\n",
       "    .dataframe tbody tr th {\n",
       "        vertical-align: top;\n",
       "    }\n",
       "\n",
       "    .dataframe thead th {\n",
       "        text-align: right;\n",
       "    }\n",
       "</style>\n",
       "<table border=\"1\" class=\"dataframe\">\n",
       "  <thead>\n",
       "    <tr style=\"text-align: right;\">\n",
       "      <th></th>\n",
       "      <th>CreditScore</th>\n",
       "      <th>Geography</th>\n",
       "      <th>Gender</th>\n",
       "      <th>Age</th>\n",
       "      <th>Age_log</th>\n",
       "      <th>Tenure</th>\n",
       "      <th>Balance</th>\n",
       "      <th>NumOfProducts</th>\n",
       "      <th>HasCrCard</th>\n",
       "      <th>IsActiveMember</th>\n",
       "      <th>EstimatedSalary</th>\n",
       "    </tr>\n",
       "  </thead>\n",
       "  <tbody>\n",
       "    <tr>\n",
       "      <th>0</th>\n",
       "      <td>650</td>\n",
       "      <td>France</td>\n",
       "      <td>Male</td>\n",
       "      <td>40</td>\n",
       "      <td>3.688</td>\n",
       "      <td>5</td>\n",
       "      <td>125000.0</td>\n",
       "      <td>2</td>\n",
       "      <td>1</td>\n",
       "      <td>1</td>\n",
       "      <td>75000.0</td>\n",
       "    </tr>\n",
       "  </tbody>\n",
       "</table>\n",
       "</div>"
      ],
      "text/plain": [
       "   CreditScore Geography Gender  Age  Age_log  Tenure   Balance  \\\n",
       "0          650    France   Male   40    3.688       5  125000.0   \n",
       "\n",
       "   NumOfProducts  HasCrCard  IsActiveMember  EstimatedSalary  \n",
       "0              2          1               1          75000.0  "
      ]
     },
     "metadata": {},
     "output_type": "display_data"
    }
   ],
   "source": [
    "import pandas as pd\n",
    "\n",
    "sample = {\n",
    "  \"CreditScore\": 650,\n",
    "  \"Geography\": \"France\",\n",
    "  \"Gender\": \"Male\",\n",
    "  \"Age\": 40,\n",
    "  \"Age_log\": 3.688,\n",
    "  \"Tenure\": 5,\n",
    "  \"Balance\": 125000.00,\n",
    "  \"NumOfProducts\": 2,\n",
    "  \"HasCrCard\": 1,\n",
    "  \"IsActiveMember\": 1,\n",
    "  \"EstimatedSalary\": 75000.00\n",
    "}\n",
    "sample_df = pd.DataFrame([sample])\n",
    "display(sample_df)"
   ]
  },
  {
   "cell_type": "code",
   "execution_count": 6,
   "metadata": {},
   "outputs": [
    {
     "name": "stdout",
     "output_type": "stream",
     "text": [
      "Churn prediction: False\n",
      "Churn probability: 0.0550\n"
     ]
    }
   ],
   "source": [
    "# --- Preprocess and Predict ---\n",
    "X_processed = preprocessor.transform(sample_df)\n",
    "pred = model.predict(X_processed)\n",
    "proba = model.predict_proba(X_processed)\n",
    "print(f'Churn prediction: {bool(pred[0])}')\n",
    "print(f'Churn probability: {proba[0][1]:.4f}')"
   ]
  },
  {
   "cell_type": "code",
   "execution_count": null,
   "metadata": {},
   "outputs": [],
   "source": []
  }
 ],
 "metadata": {
  "kernelspec": {
   "display_name": ".venv",
   "language": "python",
   "name": "python3"
  },
  "language_info": {
   "codemirror_mode": {
    "name": "ipython",
    "version": 3
   },
   "file_extension": ".py",
   "mimetype": "text/x-python",
   "name": "python",
   "nbconvert_exporter": "python",
   "pygments_lexer": "ipython3",
   "version": "3.13.5"
  }
 },
 "nbformat": 4,
 "nbformat_minor": 2
}
